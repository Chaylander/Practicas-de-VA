{
 "cells": [
  {
   "cell_type": "code",
   "execution_count": 1,
   "id": "6f6b9902",
   "metadata": {},
   "outputs": [
    {
     "name": "stdout",
     "output_type": "stream",
     "text": [
      "altura de la imagen: 567\n",
      "ancho de la imagen: 584\n"
     ]
    }
   ],
   "source": [
    "import cv2\n",
    "import numpy as np\n",
    "\n",
    "img = cv2.imread('rubic.jpg')\n",
    "    \n",
    "cv2.imshow('original',img)\n",
    "\n",
    "alto= img.shape[0]\n",
    "ancho= img.shape[1]\n",
    "\n",
    "print(\"altura de la imagen:\",alto)\n",
    "print(\"ancho de la imagen:\",ancho)\n",
    "\n",
    "ROI = img[50:400, 100:600]\n",
    "cv2.imshow('roi',ROI)\n",
    "\n",
    "gray = cv2.cvtColor(ROI,cv2.COLOR_BGR2GRAY)\n",
    "gray = np.float32(gray)\n",
    "\n",
    "corners = cv2.goodFeaturesToTrack(gray, 100, 0.01, 10)\n",
    "corners = np.int0(corners)\n",
    "\n",
    "for corner in corners:\n",
    "    x,y = corner.ravel()\n",
    "    cv2.circle(ROI,(x,y),3,255,-1)\n",
    "    \n",
    "cv2.imshow('Corner',ROI)\n",
    "\n",
    "cv2.waitKey(0)\n",
    "cv2.destroyAllWindows()"
   ]
  },
  {
   "cell_type": "code",
   "execution_count": null,
   "id": "9bf9bc9a",
   "metadata": {},
   "outputs": [],
   "source": []
  }
 ],
 "metadata": {
  "kernelspec": {
   "display_name": "Python 3",
   "language": "python",
   "name": "python3"
  },
  "language_info": {
   "codemirror_mode": {
    "name": "ipython",
    "version": 3
   },
   "file_extension": ".py",
   "mimetype": "text/x-python",
   "name": "python",
   "nbconvert_exporter": "python",
   "pygments_lexer": "ipython3",
   "version": "3.8.8"
  }
 },
 "nbformat": 4,
 "nbformat_minor": 5
}
