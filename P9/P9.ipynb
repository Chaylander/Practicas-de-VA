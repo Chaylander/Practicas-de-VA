{
 "cells": [
  {
   "cell_type": "code",
   "execution_count": 1,
   "id": "df02f8d9",
   "metadata": {},
   "outputs": [
    {
     "name": "stdout",
     "output_type": "stream",
     "text": [
      "altura de la imagen: 1000\n",
      "ancho de la imagen: 750\n"
     ]
    }
   ],
   "source": [
    "import cv2\n",
    "import numpy as np\n",
    "\n",
    "img_rgb = cv2.imread('monedasres.jpg')\n",
    "img_gray = cv2.cvtColor(img_rgb, cv2.COLOR_BGR2GRAY)\n",
    "\n",
    "alto= img_rgb.shape[0]\n",
    "ancho= img_rgb.shape[1]\n",
    "\n",
    "print(\"altura de la imagen:\",alto)\n",
    "print(\"ancho de la imagen:\",ancho)\n",
    "\n",
    "cv2.imshow('img_rgb',img_rgb)\n",
    "\n",
    "\n",
    "template = cv2.imread('1peso.jpg',0)\n",
    "w, h = template.shape[::-1]\n",
    "\n",
    "res = cv2.matchTemplate(img_gray,template,cv2.TM_CCOEFF_NORMED)\n",
    "threshold = 0.9\n",
    "loc = np.where( res >= threshold)\n",
    "\n",
    "for pt in zip(*loc[::-1]):\n",
    "    cv2.rectangle(img_rgb, pt, (pt[0] + w, pt[1] + h), (0,255,255), 2)\n",
    "    \n",
    "#5 pesos\n",
    "template2 = cv2.imread('5peso.jpg',0)\n",
    "o, p = template2.shape[::-1]\n",
    "\n",
    "res2 = cv2.matchTemplate(img_gray,template2,cv2.TM_CCOEFF_NORMED)\n",
    "loc2 = np.where( res2 >= threshold)\n",
    "for pt in zip(*loc2[::-1]):\n",
    "    cv2.rectangle(img_rgb, pt, (pt[0] + o, pt[1] + p), (255,0,0), 2)\n",
    "    \n",
    "#10 pesos\n",
    "template3 = cv2.imread('10pesos.jpg',0)\n",
    "o, p = template3.shape[::-1]\n",
    "\n",
    "res3 = cv2.matchTemplate(img_gray,template3,cv2.TM_CCOEFF_NORMED)\n",
    "loc3 = np.where( res3 >= threshold)\n",
    "for pt in zip(*loc3[::-1]):\n",
    "    cv2.rectangle(img_rgb, pt, (pt[0] + o, pt[1] + p), (255,255,123), 2)\n",
    "\n",
    "cv2.imshow('Detected',img_rgb)\n",
    "\n",
    "cv2.waitKey(0)\n",
    "cv2.destroyAllWindows()"
   ]
  },
  {
   "cell_type": "code",
   "execution_count": null,
   "id": "07c010fc",
   "metadata": {},
   "outputs": [],
   "source": []
  }
 ],
 "metadata": {
  "kernelspec": {
   "display_name": "Python 3",
   "language": "python",
   "name": "python3"
  },
  "language_info": {
   "codemirror_mode": {
    "name": "ipython",
    "version": 3
   },
   "file_extension": ".py",
   "mimetype": "text/x-python",
   "name": "python",
   "nbconvert_exporter": "python",
   "pygments_lexer": "ipython3",
   "version": "3.8.8"
  }
 },
 "nbformat": 4,
 "nbformat_minor": 5
}
