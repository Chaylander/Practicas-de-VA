{
 "cells": [
  {
   "cell_type": "code",
   "execution_count": null,
   "id": "70b7b384",
   "metadata": {},
   "outputs": [],
   "source": [
    "#COLOR AZUL\n",
    "import cv2\n",
    "import numpy as np\n",
    "\n",
    "cap = cv2.VideoCapture(0)\n",
    "\n",
    "while True:\n",
    "    _, frame = cap.read()\n",
    "    HSV = cv2.cvtColor(frame,cv2.COLOR_BGR2HSV)     #Hue, Saturation, Value = color, intensidad y iluminacion\n",
    "    \n",
    "    lower_red = np.array([150,100,120])\n",
    "    upper_red = np.array([255,180,255])\n",
    "    \n",
    "    mask = cv2.inRange(HSV, lower_red, upper_red)\n",
    "    \n",
    "    resultado = cv2.bitwise_and(frame,frame, mask=mask)\n",
    "    \n",
    "    kernel = np.ones((15,15),np.float32)/225\n",
    "    smoothed = cv2.filter2D(resultado,-1,kernel)\n",
    "    \n",
    "    blur = cv2.GaussianBlur(resultado,(15,15),0)\n",
    "    \n",
    "    median = cv2.medianBlur(resultado,15)\n",
    "    \n",
    "    bilateral = cv2.bilateralFilter(resultado,15,75,75)\n",
    "    \n",
    "    \n",
    "    cv2.imshow('frame',frame)\n",
    "    #cv2.imshow('mask',mask)\n",
    "    cv2.imshow('resultado',resultado)\n",
    "    #cv2.imshow('filtrado',smoothed)\n",
    "    cv2.imshow('blurr',blur)\n",
    "    cv2.imshow('median',median)\n",
    "    cv2.imshow('bilateral',bilateral)\n",
    "    \n",
    "    \n",
    "    k = cv2.waitKey(5) & 0xFF\n",
    "    if k == 27:\n",
    "        break\n",
    "\n",
    "cv2.destroyAllWindows()\n",
    "cap.release"
   ]
  },
  {
   "cell_type": "code",
   "execution_count": null,
   "id": "b82ebf16",
   "metadata": {},
   "outputs": [],
   "source": []
  }
 ],
 "metadata": {
  "kernelspec": {
   "display_name": "Python 3",
   "language": "python",
   "name": "python3"
  },
  "language_info": {
   "codemirror_mode": {
    "name": "ipython",
    "version": 3
   },
   "file_extension": ".py",
   "mimetype": "text/x-python",
   "name": "python",
   "nbconvert_exporter": "python",
   "pygments_lexer": "ipython3",
   "version": "3.8.8"
  }
 },
 "nbformat": 4,
 "nbformat_minor": 5
}
