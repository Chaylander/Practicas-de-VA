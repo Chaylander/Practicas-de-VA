{
 "cells": [
  {
   "cell_type": "code",
   "execution_count": 2,
   "id": "1d7bdaed",
   "metadata": {},
   "outputs": [
    {
     "name": "stdout",
     "output_type": "stream",
     "text": [
      "Ancho de la imagen: 1010\n",
      "Largo de la imagen: 1708\n",
      "Canales: 3\n"
     ]
    }
   ],
   "source": [
    "import numpy as np\n",
    "import cv2 \n",
    "\n",
    "#BGR\n",
    "\n",
    "img=cv2.imread(\"black.jpg\",cv2.IMREAD_COLOR)\n",
    "#Obtener el tamano de la imagen\n",
    "alto= img.shape[0]\n",
    "ancho= img.shape[1]\n",
    "canales= img.shape[2]\n",
    "\n",
    "\n",
    "print(\"Ancho de la imagen:\",alto)\n",
    "print(\"Largo de la imagen:\",ancho)\n",
    "print(\"Canales:\",canales)\n",
    "\n",
    "#Para la linea primero va el primer punto(X,Y) y punto final(X,Y), despues colores en BGR y finalmente el grosor\n",
    "cv2.line(img,(0,0),(1000,int(1708/3)),(26,127,239),5)\n",
    "\n",
    "#Rectangulo primera coordenada esquina sup izq, despues esquina inf derecha\n",
    "cv2.rectangle(img,(700,int(1708/3)),(1000,1620),(26,127,50),-1)\n",
    "\n",
    "#Circulo - coordenadas, luego radio y finalmente color y grosor(si grosor es negativo lo rellena)\n",
    "cv2.circle(img,(854,505),39,(0,0,255),-1)\n",
    "\n",
    "#Poligono\n",
    "pts=np.array([[10,5],[20,30],[70,20],[50,10]],np.int32)\n",
    "pts = pts.reshape((-1,1,2))\n",
    "#Donde queremos dibujar, si queremos conectar el ultimo punto, color y grosor de linea\n",
    "img = cv2.polylines(img,[pts],True,(0,255,255),5)\n",
    "\n",
    "#Escribir en una imagen\n",
    "font=cv2.FONT_HERSHEY_SIMPLEX\n",
    "#El 1 es el grosor de la letra\n",
    "cv2.putText(img,\":3\",(840,520),font,1,(100,255,203),5,cv2.LINE_AA)\n",
    "\n",
    "cv2.imshow(\"image\",img)\n",
    "cv2.imwrite('dibujitos.jpg',img)\n",
    "cv2.waitKey(0)\n",
    "cv2.destroyAllWindows()"
   ]
  },
  {
   "cell_type": "code",
   "execution_count": 46,
   "id": "01c4932f",
   "metadata": {},
   "outputs": [
    {
     "name": "stdout",
     "output_type": "stream",
     "text": [
      "Ancho de la imagen: 683\n",
      "Largo de la imagen: 1191\n"
     ]
    }
   ],
   "source": [
    "import numpy as np\n",
    "import cv2 \n",
    "\n",
    "#BGR\n",
    "\n",
    "img=cv2.imread(\"thewitcher.jpg\",cv2.IMREAD_COLOR)\n",
    "alto= img.shape[0]\n",
    "ancho= img.shape[1]\n",
    "\n",
    "print(\"Ancho de la imagen:\",alto)\n",
    "print(\"Largo de la imagen:\",ancho)\n",
    "\n",
    "\n",
    "cv2.circle(img,(544,315),39,(255,0,0),3)\n",
    "\n",
    "cv2.imshow(\"image\",img)\n",
    "cv2.imwrite('interes.jpg',img)\n",
    "cv2.waitKey(0)\n",
    "cv2.destroyAllWindows()"
   ]
  },
  {
   "cell_type": "code",
   "execution_count": null,
   "id": "ffe86f32",
   "metadata": {},
   "outputs": [],
   "source": []
  }
 ],
 "metadata": {
  "kernelspec": {
   "display_name": "Python 3",
   "language": "python",
   "name": "python3"
  },
  "language_info": {
   "codemirror_mode": {
    "name": "ipython",
    "version": 3
   },
   "file_extension": ".py",
   "mimetype": "text/x-python",
   "name": "python",
   "nbconvert_exporter": "python",
   "pygments_lexer": "ipython3",
   "version": "3.8.8"
  }
 },
 "nbformat": 4,
 "nbformat_minor": 5
}
