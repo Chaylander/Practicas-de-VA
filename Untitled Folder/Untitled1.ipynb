{
 "cells": [
  {
   "cell_type": "code",
   "execution_count": 1,
   "id": "7dd01ab0",
   "metadata": {},
   "outputs": [
    {
     "name": "stdout",
     "output_type": "stream",
     "text": [
      "{2, 3, 4}\n",
      "{2, 3, 5}\n",
      "{5}\n",
      "[2, 3, 4, 5]\n"
     ]
    }
   ],
   "source": [
    "\n",
    "lista1 = [2, 2, 3, 4]\n",
    "lista_nueva1 = set(lista1)\n",
    "\n",
    "print(lista_nueva1)\n",
    "\n",
    "lista2= [2, 3, 3, 5]\n",
    "lista_nueva2 = set(lista2)\n",
    "\n",
    "print(lista_nueva2)\n",
    "\n",
    "diff = lista_nueva2 - lista_nueva1\n",
    "\n",
    "print(diff)\n",
    "\n",
    "listaTotal = list(lista_nueva1) + list(diff)\n",
    "print(listaTotal)\n"
   ]
  },
  {
   "cell_type": "code",
   "execution_count": null,
   "id": "bf445e52",
   "metadata": {},
   "outputs": [],
   "source": []
  }
 ],
 "metadata": {
  "kernelspec": {
   "display_name": "Python 3",
   "language": "python",
   "name": "python3"
  },
  "language_info": {
   "codemirror_mode": {
    "name": "ipython",
    "version": 3
   },
   "file_extension": ".py",
   "mimetype": "text/x-python",
   "name": "python",
   "nbconvert_exporter": "python",
   "pygments_lexer": "ipython3",
   "version": "3.8.8"
  }
 },
 "nbformat": 4,
 "nbformat_minor": 5
}
