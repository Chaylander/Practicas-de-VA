{
 "cells": [
  {
   "cell_type": "code",
   "execution_count": 1,
   "id": "02d6b6c3",
   "metadata": {},
   "outputs": [
    {
     "name": "stdout",
     "output_type": "stream",
     "text": [
      "Ingresa la J\n",
      "J\n"
     ]
    },
    {
     "data": {
      "image/png": "[encoded data removed]",
      "text/plain": [
       "<Figure size 432x288 with 1 Axes>"
      ]
     },
     "metadata": {
      "needs_background": "light"
     },
     "output_type": "display_data"
    },
    {
     "ename": "error",
     "evalue": "OpenCV(4.0.1) C:\\ci\\opencv-suite_1573470242804\\work\\modules\\imgproc\\src\\histogram.cpp:3345: error: (-215:Assertion failed) _src.type() == CV_8UC1 in function 'cv::equalizeHist'\n",
     "output_type": "error",
     "traceback": [
      "\u001b[1;31m---------------------------------------------------------------------------\u001b[0m",
      "\u001b[1;31merror\u001b[0m                                     Traceback (most recent call last)",
      "\u001b[1;32m<ipython-input-1-af208e28ea8d>\u001b[0m in \u001b[0;36m<module>\u001b[1;34m\u001b[0m\n\u001b[0;32m     20\u001b[0m         \u001b[0mplt\u001b[0m\u001b[1;33m.\u001b[0m\u001b[0mshow\u001b[0m\u001b[1;33m(\u001b[0m\u001b[1;33m)\u001b[0m\u001b[1;33m\u001b[0m\u001b[1;33m\u001b[0m\u001b[0m\n\u001b[0;32m     21\u001b[0m         \u001b[1;31m#Ecualizar imagen1\u001b[0m\u001b[1;33m\u001b[0m\u001b[1;33m\u001b[0m\u001b[1;33m\u001b[0m\u001b[0m\n\u001b[1;32m---> 22\u001b[1;33m         \u001b[0mimg1_ecualizada\u001b[0m \u001b[1;33m=\u001b[0m \u001b[0mcv2\u001b[0m\u001b[1;33m.\u001b[0m\u001b[0mequalizeHist\u001b[0m\u001b[1;33m(\u001b[0m\u001b[0mimg1\u001b[0m\u001b[1;33m)\u001b[0m\u001b[1;33m\u001b[0m\u001b[1;33m\u001b[0m\u001b[0m\n\u001b[0m\u001b[0;32m     23\u001b[0m         \u001b[0mcv2\u001b[0m\u001b[1;33m.\u001b[0m\u001b[0mimshow\u001b[0m\u001b[1;33m(\u001b[0m\u001b[1;34m'Imagen_1_ecualizada'\u001b[0m\u001b[1;33m,\u001b[0m \u001b[0mimg1_ecualizada\u001b[0m\u001b[1;33m)\u001b[0m\u001b[1;33m\u001b[0m\u001b[1;33m\u001b[0m\u001b[0m\n\u001b[0;32m     24\u001b[0m         \u001b[1;31m#Histograma imagen 1 ecualizada\u001b[0m\u001b[1;33m\u001b[0m\u001b[1;33m\u001b[0m\u001b[1;33m\u001b[0m\u001b[0m\n",
      "\u001b[1;31merror\u001b[0m: OpenCV(4.0.1) C:\\ci\\opencv-suite_1573470242804\\work\\modules\\imgproc\\src\\histogram.cpp:3345: error: (-215:Assertion failed) _src.type() == CV_8UC1 in function 'cv::equalizeHist'\n"
     ]
    }
   ],
   "source": [
    "import cv2\n",
    "import numpy as np\n",
    "import matplotlib.pyplot as plt #carga la librería para graficar\n",
    "\n",
    "control=0\n",
    "\n",
    "while control<11:\n",
    "    \n",
    "    letra= input(\"Ingresa la J\\n\")\n",
    "    \n",
    "    if letra==\"J\":\n",
    "\n",
    "        control=control+1\n",
    "        \n",
    "        #Imprimir Imagen 1\n",
    "        img1 = cv2.imread('paisaje.jpg')\n",
    "        cv2.imshow('Imagen 1',img1)\n",
    "        #Histograma de la imagen1\n",
    "        plt.hist(img1.ravel())\n",
    "        plt.show()\n",
    "        #Ecualizar imagen1\n",
    "        img1_ecualizada = cv2.equalizeHist(img1)\n",
    "        cv2.imshow('Imagen_1_ecualizada', img1_ecualizada)\n",
    "        #Histograma imagen 1 ecualizada\n",
    "        print(\"Histograma Imagen 1 ecualizada\")\n",
    "        plt.hist(img1_ecualizada.ravel())\n",
    "        plt.show()\n",
    "        \n",
    "        #Imprimir imagen 2\n",
    "        img2 = cv2.imread('mar.jpg')\n",
    "        cv2.imshow('Imagen 2',img2)\n",
    "        cv2.moveWindow('Imagen 2',-1900,500)\n",
    "        #Histograma de la imagen2\n",
    "        plt.hist(img2.ravel())\n",
    "        plt.show()\n",
    "        #Ecualizar imagen2\n",
    "        img2_ecualizada = cv2.equalizeHist(img2)\n",
    "        cv2.imshow('Imagen_2_ecualizada', img2_ecualizada)\n",
    "        cv2.moveWindow('Imagen 2', -650,0)\n",
    "        #Histograma imagen 2\n",
    "        print(\"Histograma Imagen 2 ecualizada\")\n",
    "        plt.hist(img2_ecualizada.ravel())\n",
    "        plt.show()\n",
    "            \n",
    "        \n",
    "        if control==1:\n",
    "            \n",
    "            print(\"Suma-------------------------------------------------------------------------------------------------------\")\n",
    "            #Mostrar suma\n",
    "            img1 = cv2.imread('paisaje.jpg',cv2.IMREAD_GRAYSCALE)\n",
    "            img2 = cv2.imread('mar.jpg',cv2.IMREAD_GRAYSCALE)\n",
    "            resAW = cv2.addWeighted(img1,0.5,img2,0.5,1)\n",
    "            cv2.imshow('Suma',resAW)\n",
    "            cv2.moveWindow('Suma', -650,0)\n",
    "            \n",
    "            #Histograma de la suma\n",
    "            print(\"Histograma de la suma\")\n",
    "            plt.hist(resAW.ravel())\n",
    "            plt.show()\n",
    "            \n",
    "            #Ecualizar la suma\n",
    "            suma_ecualizada = cv2.equalizeHist(resAW)\n",
    "            cv2.imshow('imagen ecualizada', suma_ecualizada)\n",
    "            cv2.moveWindow('Imagen 2', -650,0)\n",
    "            \n",
    "            # Histograma de la suma ecualizada\n",
    "            cv2.imshow('Histograma de la suma ecualizada', img_ecualizada)\n",
    "            plt.hist(img_ecualizada.ravel())\n",
    "            plt.show()\n",
    "            \n",
    "            cv2.waitKey(0)\n",
    "            cv2.destroyAllWindows()"
   ]
  },
  {
   "cell_type": "code",
   "execution_count": null,
   "id": "2b04d3e5",
   "metadata": {},
   "outputs": [],
   "source": []
  }
 ],
 "metadata": {
  "kernelspec": {
   "display_name": "Python 3",
   "language": "python",
   "name": "python3"
  },
  "language_info": {
   "codemirror_mode": {
    "name": "ipython",
    "version": 3
   },
   "file_extension": ".py",
   "mimetype": "text/x-python",
   "name": "python",
   "nbconvert_exporter": "python",
   "pygments_lexer": "ipython3",
   "version": "3.8.8"
  }
 },
 "nbformat": 4,
 "nbformat_minor": 5
}
