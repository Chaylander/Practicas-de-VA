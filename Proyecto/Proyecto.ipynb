{
 "cells": [
  {
   "cell_type": "code",
   "execution_count": 27,
   "id": "28689f24",
   "metadata": {},
   "outputs": [
    {
     "name": "stdout",
     "output_type": "stream",
     "text": [
      "Texto: Buenos dias\n",
      "\f",
      "\n"
     ]
    }
   ],
   "source": [
    "import cv2\n",
    "import pytesseract\n",
    "\n",
    "pytesseract.pytesseract.tesseract_cmd = r'C:\\Program Files\\Tesseract-OCR\\tesseract'\n",
    "\n",
    "image = cv2.imread('holamundo.png')\n",
    "\n",
    "text = pytesseract.image_to_string(image)\n",
    "\n",
    "print('Texto:',text)\n",
    "\n",
    "cv2.imshow('Image',image)\n",
    "cv2.waitKey(0)\n",
    "cv2.destroyAllWindows()"
   ]
  },
  {
   "cell_type": "code",
   "execution_count": 32,
   "id": "791de889",
   "metadata": {},
   "outputs": [],
   "source": [
    "import cv2\n",
    "import pytesseract\n",
    "\n",
    "pytesseract.pytesseract.tesseract_cmd = r'C:\\Program Files\\Tesseract-OCR\\tesseract'\n",
    "\n",
    "placa = []\n",
    "\n",
    "image = cv2.imread('test3.jpg')\n",
    "cv2.imshow('imagen original', image)\n",
    "#Escala de grises\n",
    "Gris = cv2.cvtColor(image, cv2.COLOR_BGR2GRAY)\n",
    "#Blur para mejorar la calidad\n",
    "Gris = cv2.blur(Gris,(3,3))\n",
    "\n",
    "\n",
    "\n",
    "#Deteccion de bordes con Canny\n",
    "Canny = cv2.Canny(Gris,150,200)\n",
    "Canny = cv2.dilate(Canny,None,iterations=1)\n",
    "\n",
    "#Encontrar contornos y dibujarlos\n",
    "cnts,_ = cv2.findContours(Canny,cv2.RETR_LIST,cv2.CHAIN_APPROX_SIMPLE)\n",
    "#cv2.drawContours(image,cnts,-1,(0,255,0),2)\n",
    "\n",
    "text = pytesseract.image_to_string(image)\n",
    "\n",
    "#Crear ROI, que seria la placa \n",
    "for c in cnts:\n",
    "    area = cv2.contourArea(c)\n",
    "    \n",
    "    #Deteccion de rectangulo\n",
    "    x,y,w,h = cv2.boundingRect(c)\n",
    "    epsilon = 0.09*cv2.arcLength(c,True)\n",
    "    approx = cv2.approxPolyDP(c,epsilon,True)\n",
    "    \n",
    "    if len(approx)==4 and area > 9000:\n",
    "        print('area=',area)\n",
    "        #cv2.drawContours(image,[c],0,(0,255,0),2)\n",
    "        aspect_ratio = float(w)/h\n",
    "        if aspect_ratio >2:\n",
    "            #cv2.drawContours(image,[c],0,(0,255,0),2)\n",
    "            placa = Gris[y:y+h,x:x+w]\n",
    "            text = pytesseract.image_to_string(placa, config = '--psm 11')\n",
    "            print('Placa:',text)\n",
    "            cv2.imshow('placa',placa)\n",
    "            cv2.rectangle(image,(x,y),(x+w,y+h),(0,255,0),0)\n",
    "            cv2.putText(image,text,(x-20,y-10),1,2.2,(0,255,0),3)\n",
    "\n",
    "\n",
    "\n",
    "cv2.imshow('Image',image)\n",
    "cv2.imshow('Canny',Canny)\n",
    "cv2.waitKey(0)\n",
    "cv2.destroyAllWindows()"
   ]
  }
 ],
 "metadata": {
  "kernelspec": {
   "display_name": "Python 3",
   "language": "python",
   "name": "python3"
  },
  "language_info": {
   "codemirror_mode": {
    "name": "ipython",
    "version": 3
   },
   "file_extension": ".py",
   "mimetype": "text/x-python",
   "name": "python",
   "nbconvert_exporter": "python",
   "pygments_lexer": "ipython3",
   "version": "3.8.8"
  }
 },
 "nbformat": 4,
 "nbformat_minor": 5
}
