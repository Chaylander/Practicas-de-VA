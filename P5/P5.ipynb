{
 "cells": [
  {
   "cell_type": "code",
   "execution_count": 2,
   "id": "6ef0e916",
   "metadata": {},
   "outputs": [],
   "source": [
    "import cv2\n",
    "import numpy as np\n",
    "\n",
    "img = cv2.imread('bookpage.jpg')\n",
    "#Cualquier valor abajo de 12 sera negro, despues el valor maximo  (255)\n",
    "retval, threshold = cv2.threshold(img,12,255, cv2.THRESH_BINARY)\n",
    "\n",
    "grayscaled = cv2.cvtColor(img,cv2.COLOR_BGR2GRAY)\n",
    "retval2, threshold2 = cv2.threshold(grayscaled,12,255, cv2.THRESH_BINARY)\n",
    "\n",
    "gauss = cv2.adaptiveThreshold(grayscaled,255,cv2.ADAPTIVE_THRESH_GAUSSIAN_C, cv2.THRESH_BINARY,115,1)\n",
    "\n",
    "retval2, otsu = cv2.threshold(grayscaled,125,255,cv2.THRESH_BINARY+cv2.THRESH_OTSU)\n",
    "\n",
    "mean =cv2.adaptiveThreshold(grayscaled,255,cv2.ADAPTIVE_THRESH_MEAN_C, cv2.THRESH_BINARY,115,1) \n",
    "\n",
    "#To zero\n",
    "retval3, threshold3 = cv2.threshold(grayscaled,12,255, cv2.THRESH_TOZERO)\n",
    "\n",
    "#To zero Inverso \n",
    "retval4, threshold4 = cv2.threshold(grayscaled,12,255, cv2.THRESH_TOZERO_INV)\n",
    "\n",
    "#Binary inv\n",
    "retval5, threshold5 = cv2.threshold(grayscaled,12,255, cv2.THRESH_BINARY_INV)\n",
    "\n",
    "#Trunc\n",
    "retval6, threshold6 = cv2.threshold(grayscaled,255,255, cv2.THRESH_TRUNC)\n",
    "\n",
    "cv2.imshow('original',img)\n",
    "cv2.imshow('threshold',threshold)\n",
    "cv2.imshow('threshold2',threshold2)\n",
    "cv2.imshow('gauss',gauss)\n",
    "cv2.imshow('Otsu',otsu)\n",
    "cv2.imshow('Mean',mean)\n",
    "cv2.imshow('To zero',threshold3)#Tozero\n",
    "cv2.imshow('To zero INV',threshold4)#Tozero INV\n",
    "cv2.imshow('Binario inverso',threshold5)#Binario INV\n",
    "cv2.imshow('Trunc',threshold6)#Trunc \n",
    "cv2.waitKey(0)\n",
    "cv2.destroyAllWindows()"
   ]
  },
  {
   "cell_type": "code",
   "execution_count": null,
   "id": "e6485064",
   "metadata": {},
   "outputs": [],
   "source": []
  },
  {
   "cell_type": "code",
   "execution_count": null,
   "id": "f91de9eb",
   "metadata": {},
   "outputs": [],
   "source": []
  }
 ],
 "metadata": {
  "kernelspec": {
   "display_name": "Python 3",
   "language": "python",
   "name": "python3"
  },
  "language_info": {
   "codemirror_mode": {
    "name": "ipython",
    "version": 3
   },
   "file_extension": ".py",
   "mimetype": "text/x-python",
   "name": "python",
   "nbconvert_exporter": "python",
   "pygments_lexer": "ipython3",
   "version": "3.8.8"
  }
 },
 "nbformat": 4,
 "nbformat_minor": 5
}
